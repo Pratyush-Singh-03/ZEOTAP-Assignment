{
 "cells": [
  {
   "cell_type": "code",
   "execution_count": 2,
   "id": "2ba132ec",
   "metadata": {},
   "outputs": [],
   "source": [
    "import pandas as pb;\n",
    "from sklearn.preprocessing import MinMaxScaler;\n",
    "from sklearn.metrics.pairwise import cosine_similarity;"
   ]
  },
  {
   "cell_type": "code",
   "execution_count": 3,
   "id": "be9da176",
   "metadata": {},
   "outputs": [],
   "source": [
    "Customers = pb.read_csv('Customers.csv')\n",
    "Products = pb.read_csv('Products.csv')\n",
    "Transactions = pb.read_csv('Transactions.csv')"
   ]
  },
  {
   "cell_type": "code",
   "execution_count": 4,
   "id": "4d3a9c3e",
   "metadata": {},
   "outputs": [],
   "source": [
    "Transactions['TransactionDate'] = pb.to_datetime(Transactions['TransactionDate'])\n",
    "Customers['SignupDate'] = pb.to_datetime(Customers['SignupDate'])"
   ]
  },
  {
   "cell_type": "code",
   "execution_count": 5,
   "id": "b2ddcfc5",
   "metadata": {},
   "outputs": [
    {
     "name": "stdout",
     "output_type": "stream",
     "text": [
      "  TransactionID CustomerID ProductID     TransactionDate  Quantity  \\\n",
      "0        T00001      C0199      P067 2024-08-25 12:38:23         1   \n",
      "1        T00112      C0146      P067 2024-05-27 22:23:54         1   \n",
      "2        T00166      C0127      P067 2024-04-25 07:38:55         1   \n",
      "3        T00272      C0087      P067 2024-03-26 22:55:37         2   \n",
      "4        T00363      C0070      P067 2024-03-21 15:10:10         3   \n",
      "\n",
      "   TotalValue   Price     CustomerName         Region SignupDate  \n",
      "0      300.68  300.68   Andrea Jenkins         Europe 2022-12-03  \n",
      "1      300.68  300.68  Brittany Harvey           Asia 2024-09-04  \n",
      "2      300.68  300.68  Kathryn Stevens         Europe 2024-04-04  \n",
      "3      601.36  300.68  Travis Campbell  South America 2024-04-11  \n",
      "4      902.04  300.68    Timothy Perez         Europe 2022-03-15  \n"
     ]
    }
   ],
   "source": [
    "CustomerTransactions = Transactions.merge(Customers,on='CustomerID',how='inner')\n",
    "print(CustomerTransactions.head(5))"
   ]
  },
  {
   "cell_type": "code",
   "execution_count": 6,
   "id": "0b35be19",
   "metadata": {},
   "outputs": [
    {
     "name": "stdout",
     "output_type": "stream",
     "text": [
      "  TransactionID CustomerID ProductID     TransactionDate  Quantity  \\\n",
      "0        T00001      C0199      P067 2024-08-25 12:38:23         1   \n",
      "1        T00112      C0146      P067 2024-05-27 22:23:54         1   \n",
      "2        T00166      C0127      P067 2024-04-25 07:38:55         1   \n",
      "3        T00272      C0087      P067 2024-03-26 22:55:37         2   \n",
      "4        T00363      C0070      P067 2024-03-21 15:10:10         3   \n",
      "\n",
      "   TotalValue  Price_x                      ProductName     Category  Price_y  \n",
      "0      300.68   300.68  ComfortLiving Bluetooth Speaker  Electronics   300.68  \n",
      "1      300.68   300.68  ComfortLiving Bluetooth Speaker  Electronics   300.68  \n",
      "2      300.68   300.68  ComfortLiving Bluetooth Speaker  Electronics   300.68  \n",
      "3      601.36   300.68  ComfortLiving Bluetooth Speaker  Electronics   300.68  \n",
      "4      902.04   300.68  ComfortLiving Bluetooth Speaker  Electronics   300.68  \n"
     ]
    }
   ],
   "source": [
    "CustomerTransactions = Transactions.merge(Products,on='ProductID',how='left')\n",
    "print(CustomerTransactions.head(5))"
   ]
  },
  {
   "cell_type": "code",
   "execution_count": 7,
   "id": "f1eeb7dc",
   "metadata": {},
   "outputs": [],
   "source": [
    "TotalSpending = CustomerTransactions.groupby('CustomerID')['TotalValue'].sum()\n",
    "AverageTransaction = CustomerTransactions.groupby('CustomerID')['TotalValue'].mean().rename('AverageTransaction')\n",
    "NumberOfTransactions = CustomerTransactions.groupby('CustomerID')['TransactionID'].count()\n",
    "\n",
    "MostPurchasedCategory = (CustomerTransactions.groupby(['CustomerID', 'Category'])['TransactionID'].count().reset_index().sort_values(['CustomerID', 'TransactionID'], ascending=[True, False]).groupby('CustomerID').first()['Category']).rename('MostPurchasedCategory')"
   ]
  },
  {
   "cell_type": "code",
   "execution_count": 8,
   "id": "a838bd8c",
   "metadata": {},
   "outputs": [
    {
     "name": "stdout",
     "output_type": "stream",
     "text": [
      "            TotalValue  AverageTransaction  TransactionID  \\\n",
      "CustomerID                                                  \n",
      "C0001          3354.52             670.904              5   \n",
      "C0002          1862.74             465.685              4   \n",
      "C0003          2725.38             681.345              4   \n",
      "C0004          5354.88             669.360              8   \n",
      "C0005          2034.24             678.080              3   \n",
      "\n",
      "           MostPurchasedCategory  \n",
      "CustomerID                        \n",
      "C0001                Electronics  \n",
      "C0002                   Clothing  \n",
      "C0003                 Home Decor  \n",
      "C0004                      Books  \n",
      "C0005                Electronics  \n"
     ]
    }
   ],
   "source": [
    "CustomerFeatures = pb.concat([TotalSpending, AverageTransaction, NumberOfTransactions, MostPurchasedCategory], axis=1)\n",
    "print(CustomerFeatures.head())"
   ]
  },
  {
   "cell_type": "code",
   "execution_count": 9,
   "id": "d3f70955",
   "metadata": {},
   "outputs": [],
   "source": [
    "NumericalColumns = ['TotalValue', 'AverageTransaction', 'TransactionID']\n",
    "scaler = MinMaxScaler()"
   ]
  },
  {
   "cell_type": "code",
   "execution_count": 10,
   "id": "94ddda0b",
   "metadata": {},
   "outputs": [],
   "source": [
    "NormalizedData = scaler.fit_transform(CustomerFeatures[NumericalColumns])\n",
    "NormalizedFeatures = pb.DataFrame(NormalizedData, columns=[f\"Normalized_{col}\" for col in NumericalColumns], index=CustomerFeatures.index)\n",
    "\n",
    "CustomerFeaturesNormalized = CustomerFeatures.copy()\n",
    "CustomerFeaturesNormalized = pb.concat([CustomerFeaturesNormalized,NormalizedFeatures], axis=1)"
   ]
  },
  {
   "cell_type": "code",
   "execution_count": 12,
   "id": "78469d86",
   "metadata": {},
   "outputs": [],
   "source": [
    "NumericalFeaturesNormalized = CustomerFeaturesNormalized.filter(like=\"Normalized_\").values\n",
    "SimilarityMatrix = cosine_similarity(NumericalFeaturesNormalized)\n",
    "\n",
    "SimilarityDataFrame = pb.DataFrame(SimilarityMatrix, index=CustomerFeaturesNormalized.index, columns=CustomerFeaturesNormalized.index)\n",
    "\n",
    "TopLookalikesFirst20 = {}\n",
    "First20Customers = CustomerFeaturesNormalized.index[:20]\n",
    "\n",
    "for CustomerId in First20Customers:\n",
    "    SimilarCustomers = SimilarityDataFrame.loc[CustomerId].sort_values(ascending=False).iloc[1:4]\n",
    "    TopLookalikesFirst20[CustomerId] = [{\"CustomerID\": OtherId, \"Score\": round(score, 2)} for OtherId, score in SimilarCustomers.items()]\n",
    "\n",
    "LookalikeDataFirst20 = [{\"CustomerID\": Customer, \"Lookalikes\": str(TopLookalikesFirst20[Customer])} for Customer in TopLookalikesFirst20]\n",
    "LookalikeDataFrameFirst20 = pb.DataFrame(LookalikeDataFirst20)\n",
    "\n",
    "outputPathFirst20 = \"Pratyush_Singh_Lookalike.csv\"\n",
    "LookalikeDataFrameFirst20.to_csv(outputPathFirst20, index=False)"
   ]
  }
 ],
 "metadata": {
  "kernelspec": {
   "display_name": "Python 3 (ipykernel)",
   "language": "python",
   "name": "python3"
  },
  "language_info": {
   "codemirror_mode": {
    "name": "ipython",
    "version": 3
   },
   "file_extension": ".py",
   "mimetype": "text/x-python",
   "name": "python",
   "nbconvert_exporter": "python",
   "pygments_lexer": "ipython3",
   "version": "3.13.1"
  }
 },
 "nbformat": 4,
 "nbformat_minor": 5
}
